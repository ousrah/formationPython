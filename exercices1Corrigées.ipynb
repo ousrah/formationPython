{
 "cells": [
  {
   "cell_type": "markdown",
   "metadata": {},
   "source": [
    "1 - Ecrire un programme qui lit deux entiers et affiche leurs somme"
   ]
  },
  {
   "cell_type": "code",
   "execution_count": 2,
   "metadata": {},
   "outputs": [
    {
     "name": "stdout",
     "output_type": "stream",
     "text": [
      "la somme de 5 et de 9 est 14\n"
     ]
    }
   ],
   "source": [
    "a=input(\"tapez la valeur de a\")\n",
    "b=input(\"tapez la valeur de b\")\n",
    "c=int(a)+int(b)\n",
    "print(f'la somme de {a} et de {b} est {c}')\n"
   ]
  },
  {
   "cell_type": "markdown",
   "metadata": {},
   "source": [
    "2 - Ecrire un programme qui lit  4 entiers et qui affiche leurs somme, le plus grand, le plus petit et leurs moyenne"
   ]
  },
  {
   "cell_type": "code",
   "execution_count": 5,
   "metadata": {},
   "outputs": [
    {
     "name": "stdout",
     "output_type": "stream",
     "text": [
      "les valeurs tapés sont 4,3,6 et 1\n",
      "la somme est 14\n",
      "le maximum est 6\n",
      "le minimum est 1\n"
     ]
    }
   ],
   "source": [
    "a=input(\"tapez la valeur de a\")\n",
    "b=input(\"tapez la valeur de b\")\n",
    "c=input(\"tapez la valeur de c\")\n",
    "d=input(\"tapez la valeur de d\")\n",
    "somme=int(a)+int(b)+int(c)+int(d)\n",
    "maximum = a\n",
    "if b>maximum:\n",
    "    maximum=b\n",
    "if c>maximum:\n",
    "    maximum=c\n",
    "if d>maximum:\n",
    "    maximum=d  \n",
    "minimum = a\n",
    "if b<minimum:\n",
    "    minimum=b\n",
    "if c<minimum:\n",
    "    minimum=c\n",
    "if d<minimum:\n",
    "    minimum=d     \n",
    "print (f\"les valeurs tapés sont {a},{b},{c} et {d}\")   \n",
    "print(f\"la somme est {somme}\")       \n",
    "print(f\"le maximum est {maximum}\")      \n",
    "print(f\"le minimum est {minimum}\")     "
   ]
  },
  {
   "cell_type": "code",
   "execution_count": 10,
   "metadata": {},
   "outputs": [
    {
     "name": "stdout",
     "output_type": "stream",
     "text": [
      "[4, 3, 6, 2, 6, 7, 4, 3, 4, 6]\n",
      "la somme est 45\n",
      "le maximum est 7\n",
      "le minimum est 2\n"
     ]
    }
   ],
   "source": [
    "l=[]\n",
    "\n",
    "for i in range(4):\n",
    "    l.append(int(input(f\"tapez la valeur numero {i+1} : \")))\n",
    "print(l)\n",
    "print(f\"la somme est {sum(l)}\")       \n",
    "print(f\"le maximum est {max(l)}\")      \n",
    "print(f\"le minimum est {min(l)}\") \n"
   ]
  },
  {
   "cell_type": "markdown",
   "metadata": {},
   "source": [
    "3 - Ecrire un programme qui lit plusieurs entiers on s'arrete lorsque l'utilisateur tappe entrer et qui affiche leurs somme, le plus grand, le plus petit et leurs moyenne"
   ]
  },
  {
   "cell_type": "code",
   "execution_count": 12,
   "metadata": {},
   "outputs": [
    {
     "name": "stdout",
     "output_type": "stream",
     "text": [
      "[6, 5, 3, 4, 5, 6, 7]\n",
      "la somme est 36\n",
      "le maximum est 7\n",
      "le minimum est 3\n",
      "le minimum est 5.142857142857143\n"
     ]
    }
   ],
   "source": [
    "l=[]\n",
    "i=1\n",
    "while True:\n",
    "    c=input(f\"tapez la valeur numero {i} : \")\n",
    "    if c==\"\":\n",
    "        break\n",
    "    l.append(int(c))\n",
    "    i+=1\n",
    "print(l)\n",
    "print(f\"la somme est {sum(l)}\")       \n",
    "print(f\"le maximum est {max(l)}\")      \n",
    "print(f\"le minimum est {min(l)}\") \n",
    "print(f\"le minimum est {sum(l)/len(l)}\") "
   ]
  },
  {
   "cell_type": "markdown",
   "metadata": {},
   "source": [
    "4 - ecrire un programme qui permet de lire un chiffre entre 0 et 9 et qui l'affiche en lettres"
   ]
  },
  {
   "cell_type": "code",
   "execution_count": 17,
   "metadata": {},
   "outputs": [
    {
     "name": "stdout",
     "output_type": "stream",
     "text": [
      "Qutre\n"
     ]
    }
   ],
   "source": [
    "#Methode 1\n",
    "c=int(input(\"tapez une valeur entre 0 et 9\"))\n",
    "if c==0:\n",
    "    print(\"Zero\")\n",
    "elif c==1:\n",
    "    print(\"Un\")\n",
    "if c==2:\n",
    "    print(\"Deux\")\n",
    "elif c==3:\n",
    "    print(\"Trois\")\n",
    "if c==4:\n",
    "    print(\"Quatre\")\n",
    "elif c==5:\n",
    "    print(\"Cinq\")\n",
    "if c==6:\n",
    "    print(\"Six\")\n",
    "elif c==7:\n",
    "    print(\"Sept\")\n",
    "if c==8:\n",
    "    print(\"huit\")\n",
    "elif c==9:\n",
    "    print(\"neuf\")"
   ]
  },
  {
   "cell_type": "code",
   "execution_count": 16,
   "metadata": {},
   "outputs": [
    {
     "name": "stdout",
     "output_type": "stream",
     "text": [
      "neuf\n"
     ]
    }
   ],
   "source": [
    "#Methode 2\n",
    "numbers=(\"Zero\",\"Un\",\"Deux\",\"Trois\",\"Quatre\",\"Cinq\",\"Six\",\"Sept\",\"huit\",\"neuf\")\n",
    "c=int(input(\"tapez une valeur entre 0 et 9\"))\n",
    "print(numbers[c])"
   ]
  },
  {
   "cell_type": "markdown",
   "metadata": {},
   "source": [
    "5 - Ecrire un programme qui demande à l'utilisateur de tapez un entier et qui affiche son tableau de multiplication"
   ]
  },
  {
   "cell_type": "code",
   "execution_count": 19,
   "metadata": {},
   "outputs": [
    {
     "name": "stdout",
     "output_type": "stream",
     "text": [
      " 9 x 0 = 0\n",
      " 9 x 1 = 9\n",
      " 9 x 2 = 18\n",
      " 9 x 3 = 27\n",
      " 9 x 4 = 36\n",
      " 9 x 5 = 45\n",
      " 9 x 6 = 54\n",
      " 9 x 7 = 63\n",
      " 9 x 8 = 72\n",
      " 9 x 9 = 81\n",
      " 9 x 10 = 90\n"
     ]
    }
   ],
   "source": [
    "c=int(input(\"tapez une valeur entre 1 et 10\"))\n",
    "for i in range(11):\n",
    "    print(f\" {c} x {i} = {c*i}\")"
   ]
  },
  {
   "cell_type": "markdown",
   "metadata": {},
   "source": [
    "6 - Ecrire un programme qui lit le prix HT d’un article, le nombre d’articles et le taux de TVA, et qui fournit le prix total TTC correspondant. Faire en sorte que des libellés apparaissent clairement."
   ]
  },
  {
   "cell_type": "code",
   "execution_count": 23,
   "metadata": {},
   "outputs": [
    {
     "name": "stdout",
     "output_type": "stream",
     "text": [
      "le prix TTC est 297.54\n"
     ]
    }
   ],
   "source": [
    "prixHt = float(input(\"Tapez le prix HT\"))\n",
    "nombre = int(input(\"Tapez le nombre des articles\"))\n",
    "tauxTVA = float(input(\"Tapez le taux de la TVA\"))\n",
    "#prixTTC = (prixHt*nombre) + ((prixHt*nombre) * tauxTVA / 100 )\n",
    "prixTTC = (prixHt*nombre) * (1+ (tauxTVA / 100) )\n",
    "\n",
    "print(f\"le prix TTC est {prixTTC}\")"
   ]
  },
  {
   "cell_type": "markdown",
   "metadata": {},
   "source": [
    "7 - Ecrire un programme qui permet de resoudre une equation premier degrès"
   ]
  },
  {
   "cell_type": "markdown",
   "metadata": {},
   "source": [
    "### Rappel mathémaique\n",
    "Ax+B=0\n",
    "A=0 et B=0  x peut avoir n'importe quelle valeur de R\n",
    "A=0 et B != 0 équation impossible \n",
    "A!=0 x=-B/A"
   ]
  },
  {
   "cell_type": "code",
   "execution_count": 8,
   "metadata": {},
   "outputs": [
    {
     "name": "stdout",
     "output_type": "stream",
     "text": [
      "Solution de l'equation premier degré Ax+B=0\n",
      "la solution est : x= -1.5\n"
     ]
    }
   ],
   "source": [
    "print(\"Solution de l'equation premier degré Ax+B=0\")\n",
    "a=int(input(\"tapez la valeur de A\"))\n",
    "b=int(input(\"tapez la valeur de B\"))\n",
    "if a==0:\n",
    "    if b==0:\n",
    "        print(\"la solution est toute valeur de l'ensemble R\")\n",
    "    else:\n",
    "        print(\"la solution est impossible\")\n",
    "else:\n",
    "    print(\"la solution est : x=\", -b/a)"
   ]
  },
  {
   "cell_type": "markdown",
   "metadata": {},
   "source": [
    "8 - Ecrire un programme qui permet de résoudre une equation de deuxième degrès"
   ]
  },
  {
   "cell_type": "markdown",
   "metadata": {},
   "source": [
    "Axx+Bx+C=0\n",
    "A= 0  et B=0 et C=0 x peut avoir n'importe quelle valeur de R\n",
    "A=0 et b= 0 et c!=0 solution impossible\n",
    "a=0 et b!=0 la soluetion est -c/b\n",
    "a!=0\n",
    "  delta = bb-4ac\n",
    "  si delta = 0\n",
    "      x1=x2=-b/2a\n",
    "  si delta > 0\n",
    "      x1 = -b-racine(delta)/2a\n",
    "      x2 = -b+racine(delta)/2a \n",
    "  si delta < 0\n",
    "      solution impossible dans l'ensemble R\n",
    "      "
   ]
  },
  {
   "cell_type": "code",
   "execution_count": 15,
   "metadata": {},
   "outputs": [
    {
     "name": "stdout",
     "output_type": "stream",
     "text": [
      "Solution de l'equation deuxième degré Axx+Bx+C=0\n",
      "la solution est x=1-2.0,x2=-0.5\n"
     ]
    }
   ],
   "source": [
    "import math\n",
    "\n",
    "print(\"Solution de l'equation deuxième degré Axx+Bx+C=0\")\n",
    "a=int(input(\"tapez la valeur de A\"))\n",
    "b=int(input(\"tapez la valeur de B\"))\n",
    "c=int(input(\"tapez la valeur de C\"))\n",
    "if a==0:\n",
    "    if b==0:\n",
    "        if c==0:\n",
    "            print(\"la solution est toute valeur de l'ensemble R\")\n",
    "        else:\n",
    "            print(\"la solution est impossible\")  \n",
    "    else:\n",
    "        print(\"la solution est : x=\", -c/b)  \n",
    "else:\n",
    "    d = (b**2) - (4*a*c)\n",
    "    if d<0:\n",
    "        print('la solution est impossible dans l\\'ensemble R') \n",
    "    elif d>0:\n",
    "        x1=(-b-math.sqrt(d))/(2*a)\n",
    "        x2=(-b+math.sqrt(d))/(2*a)\n",
    "        print(f\"la solution est x1={x1},x2={x2}\")     \n",
    "    else:\n",
    "       x=-b/(2*a)\n",
    "       print(f\"la solution est x1=x2={x}\")     \n",
    "        \n",
    "                     "
   ]
  },
  {
   "cell_type": "markdown",
   "metadata": {},
   "source": [
    "9 - ecrire une fonction qui affiche le factoriel d'un nombre entier"
   ]
  },
  {
   "cell_type": "markdown",
   "metadata": {},
   "source": [
    "5!=4x3x2x1\n",
    "0!=1\n",
    "1!=1\n"
   ]
  },
  {
   "cell_type": "code",
   "execution_count": 21,
   "metadata": {},
   "outputs": [
    {
     "name": "stdout",
     "output_type": "stream",
     "text": [
      "Calcul du factoriel d'un entier\n",
      "la factoriel de 4 est 24\n"
     ]
    }
   ],
   "source": [
    "print(\"Calcul du factoriel d'un entier\")\n",
    "a=int(input(\"tapez la valeur a calculer\"))\n",
    "f=1\n",
    "if a==0:\n",
    "    f=1\n",
    "else:\n",
    "    for i in range(1,a+1):\n",
    "        f=f*i\n",
    "print (f\"la factoriel de {a} est {f}\")    "
   ]
  },
  {
   "cell_type": "code",
   "execution_count": 23,
   "metadata": {},
   "outputs": [
    {
     "name": "stdout",
     "output_type": "stream",
     "text": [
      "Calcul du factoriel d'un entier\n",
      "la factoriel de 6 est 720\n"
     ]
    }
   ],
   "source": [
    "def factoriel(n):\n",
    "    f=1\n",
    "    if n==0:\n",
    "        f=1\n",
    "    else:\n",
    "        for i in range(1,n+1):\n",
    "            f=f*i\n",
    "    return f\n",
    "\n",
    "\n",
    "print(\"Calcul du factoriel d'un entier\")\n",
    "a=int(input(\"tapez la valeur a calculer\"))\n",
    "print (f\"la factoriel de {a} est {factoriel(a)}\")    "
   ]
  },
  {
   "cell_type": "markdown",
   "metadata": {},
   "source": [
    "10 - Ecrire un programme qui demande deux nombres à l'utilisateur et qui affiche leur plus grand commun diviseur. PGCD"
   ]
  },
  {
   "cell_type": "code",
   "execution_count": 26,
   "metadata": {},
   "outputs": [
    {
     "name": "stdout",
     "output_type": "stream",
     "text": [
      "Calcul du PGCD de deux entiers\n",
      "le PGCD de 25 est 24 est 1\n"
     ]
    }
   ],
   "source": [
    "print(\"Calcul du PGCD de deux entiers\")\n",
    "a=int(input(\"tapez la première valeur\"))\n",
    "b=int(input(\"tapez la deuxième valeur\"))\n",
    "\n",
    "if a<b:\n",
    "    a,b=b,a\n",
    "x=b\n",
    "while True:\n",
    "    if a%x==0 and b%x==0:\n",
    "       break\n",
    "    x-=1\n",
    "print (f\"le PGCD de {a} est {b} est {x}\")        \n"
   ]
  },
  {
   "cell_type": "code",
   "execution_count": 5,
   "metadata": {},
   "outputs": [
    {
     "name": "stdout",
     "output_type": "stream",
     "text": [
      "Calcul du PGCD de deux entiers\n",
      "le PGCD de 72 est 132 est 12\n"
     ]
    }
   ],
   "source": [
    "def PGCD(a,b):\n",
    "    if b==0:\n",
    "        return a\n",
    "    else:\n",
    "        return PGCD(b,a%b)\n",
    "        \n",
    "\n",
    "print(\"Calcul du PGCD de deux entiers\")\n",
    "a=int(input(\"tapez la première valeur\"))\n",
    "b=int(input(\"tapez la deuxième valeur\"))\n",
    "\n",
    "\n",
    "print (f\"le PGCD de {a} est {b} est {PGCD(a,b)}\")    "
   ]
  },
  {
   "cell_type": "markdown",
   "metadata": {},
   "source": [
    "11 - Ecrire un programme qui demande deux nombres à l'utilisateur et qui affiche leur plus petit commun multiplicateur. PPCM"
   ]
  },
  {
   "cell_type": "code",
   "execution_count": 4,
   "metadata": {},
   "outputs": [
    {
     "name": "stdout",
     "output_type": "stream",
     "text": [
      "792\n"
     ]
    }
   ],
   "source": [
    "def ppcm(a,b):\n",
    "    if a>b:\n",
    "        a,b = b,a\n",
    "    i=1\n",
    "    while True:\n",
    "        if b*i%a==0:\n",
    "            return b*i\n",
    "        i+=1\n",
    "  \n",
    "a=int(input(\"tapez le premier entier :\")) \n",
    "b=int(input(\"tapez le deuxieme entier :\")) \n",
    "print(ppcm(a,b))   "
   ]
  },
  {
   "cell_type": "code",
   "execution_count": 7,
   "metadata": {},
   "outputs": [
    {
     "name": "stdout",
     "output_type": "stream",
     "text": [
      "792\n"
     ]
    }
   ],
   "source": [
    "def ppcm(a,b):\n",
    "    return int(a*b/PGCD(a,b))\n",
    "\n",
    "a=int(input(\"tapez le premier entier :\")) \n",
    "b=int(input(\"tapez le deuxieme entier :\")) \n",
    "print(ppcm(a,b))  "
   ]
  },
  {
   "cell_type": "markdown",
   "metadata": {},
   "source": [
    "12 - ecrire un programme qui affiche si un nombre est premier ou non"
   ]
  },
  {
   "cell_type": "code",
   "execution_count": 20,
   "metadata": {},
   "outputs": [
    {
     "name": "stdout",
     "output_type": "stream",
     "text": [
      "True\n"
     ]
    }
   ],
   "source": [
    "def isPrime(a):\n",
    "    i=a-1\n",
    "    while True:\n",
    "        #print(i)\n",
    "        if a%i==0:\n",
    "           return False\n",
    "        i=i-1\n",
    "        if i==1:\n",
    "            return True\n",
    "\n",
    "   \n",
    "    \n",
    "a=int(input(\"tapez un entier :\")) \n",
    "print(isPrime(a))    "
   ]
  },
  {
   "cell_type": "code",
   "execution_count": 21,
   "metadata": {},
   "outputs": [
    {
     "name": "stdout",
     "output_type": "stream",
     "text": [
      "True\n"
     ]
    }
   ],
   "source": [
    "import math\n",
    "def isPrime(a):\n",
    "    if a==1:\n",
    "        return False\n",
    "    i=2\n",
    "    if a%i==0:\n",
    "        return False\n",
    "    i=3\n",
    "    while i<math.sqrt(a):\n",
    "        #print(i)\n",
    "        if a%i==0:\n",
    "            return False\n",
    "        i+=2\n",
    "    return True\n",
    "\n",
    "a=int(input(\"tapez un entier :\")) \n",
    "print(isPrime(a)) "
   ]
  },
  {
   "cell_type": "markdown",
   "metadata": {},
   "source": [
    "13 - ecrire un programme qui affiche les n premiers nombres premiers, le programme commence par demander le compte des nombre premier a afficher. \n"
   ]
  },
  {
   "cell_type": "code",
   "execution_count": null,
   "metadata": {},
   "outputs": [],
   "source": []
  }
 ],
 "metadata": {
  "kernelspec": {
   "display_name": "Python 3.10.4 64-bit",
   "language": "python",
   "name": "python3"
  },
  "language_info": {
   "codemirror_mode": {
    "name": "ipython",
    "version": 3
   },
   "file_extension": ".py",
   "mimetype": "text/x-python",
   "name": "python",
   "nbconvert_exporter": "python",
   "pygments_lexer": "ipython3",
   "version": "3.10.4"
  },
  "orig_nbformat": 4,
  "vscode": {
   "interpreter": {
    "hash": "369f2c481f4da34e4445cda3fffd2e751bd1c4d706f27375911949ba6bb62e1c"
   }
  }
 },
 "nbformat": 4,
 "nbformat_minor": 2
}
